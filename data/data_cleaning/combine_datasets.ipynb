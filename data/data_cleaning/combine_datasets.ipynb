{
 "cells": [
  {
   "cell_type": "code",
   "execution_count": 1,
   "metadata": {},
   "outputs": [],
   "source": [
    "# Load packages and read in raw data\n",
    "\n",
    "import pandas as pd\n",
    "import numpy as np\n",
    "\n",
    "dete = pd.read_csv('../dete-exit-survey-january-2014.csv', \n",
    "                    na_values='Not Stated' #replace 'Not Stated' values with nulls\n",
    "                  )\n",
    "tafe = pd.read_csv('../tafe-employee-exit-survey-access-database-december-2013.csv', \n",
    "                   encoding='iso-8859-1'\n",
    "                  )\n",
    "\n",
    "# Remove unnecessary columns\n",
    "\n",
    "dete_updated = dete.drop(dete.columns[28:49], axis=1)\n",
    "tafe_updated = tafe.drop(tafe.columns[17:66], axis=1)"
   ]
  },
  {
   "cell_type": "code",
   "execution_count": 2,
   "metadata": {},
   "outputs": [],
   "source": [
    "# Set column and row display maximums\n",
    "\n",
    "pd.set_option('display.max_columns', 100)\n",
    "pd.set_option('display.max_rows', 100)"
   ]
  },
  {
   "cell_type": "markdown",
   "metadata": {},
   "source": [
    "## Research Questions\n",
    "- Are employees who only worked for the institutes for a short period of time resigning due to some kind of dissatisfaction? What about employees who have been there longer?\n",
    "- Are younger employees resigning due to some kind of dissatisfaction? What about older employees?"
   ]
  },
  {
   "cell_type": "code",
   "execution_count": 3,
   "metadata": {
    "scrolled": true
   },
   "outputs": [],
   "source": [
    "# Standardize dete_updated column names\n",
    "\n",
    "dete_updated.columns = dete_updated.columns.str.lower().str.strip().str.replace(' ', '_').str.replace('/', '_')\n",
    "dete_updated.rename({'separationtype':'separation_type'}, inplace=True, axis=1)"
   ]
  },
  {
   "cell_type": "code",
   "execution_count": 4,
   "metadata": {},
   "outputs": [],
   "source": [
    "# Standardize tafe_updated column names\n",
    "\n",
    "pattern = r'[-\\.?()/]'\n",
    "tafe_updated.columns = tafe_updated.columns.str.replace(pattern, '').str.lower().str.strip()\n",
    "tafe_updated.columns = tafe_updated.columns.str.replace('\\s+', ' ').str.replace(' ', '_')"
   ]
  },
  {
   "cell_type": "code",
   "execution_count": 5,
   "metadata": {},
   "outputs": [],
   "source": [
    "tafe_column_name_map = {'record_id':'id',\n",
    "                        'reason_for_ceasing_employment':'separation_type',\n",
    "                        'cessation_year':'cease_date',\n",
    "                        'workarea':'position',\n",
    "                        'employment_type_employment_type':'employment_status',\n",
    "                        'contributing_factors_career_move_public_sector':'career_move_to_public_sector',\n",
    "                        'contributing_factors_career_move_private_sector':'career_move_to_private_sector',\n",
    "                        'contributing_factors_interpersonal_conflict':'interpersonal_conflicts',\n",
    "                        'contributing_factors_job_dissatisfaction':'job_dissatisfaction',\n",
    "                        'contributing_factors_maternityfamily': 'maternity_family',\n",
    "                        'contributing_factors_ill_health':'ill_health',\n",
    "                        'gender_what_is_your_gender':'gender',\n",
    "                        'currentage_current_age': 'age',\n",
    "                        'lengthofserviceoverall_overall_length_of_service_at_institute_in_years': 'length_of_service'}\n",
    "\n",
    "tafe_updated = tafe_updated.rename(tafe_column_name_map, axis=1)\n",
    "tafe_updated.drop(['institute', \n",
    "                   'contributing_factors_career_move_selfemployment', \n",
    "                   'contributing_factors_dissatisfaction',\n",
    "                   'contributing_factors_study',\n",
    "                   'contributing_factors_travel',\n",
    "                   'contributing_factors_other',\n",
    "                   'contributing_factors_none',\n",
    "                   'classification_classification',\n",
    "                   'lengthofservicecurrent_length_of_service_at_current_workplace_in_years'], axis=1, inplace=True)"
   ]
  },
  {
   "cell_type": "code",
   "execution_count": 6,
   "metadata": {},
   "outputs": [],
   "source": [
    "dete_updated.drop(['role_start_date',\n",
    "                   'classification',\n",
    "                   'region',\n",
    "                   'business_unit',\n",
    "                   'dissatisfaction_with_the_department',\n",
    "                   'physical_work_environment',\n",
    "                   'lack_of_recognition',\n",
    "                   'lack_of_job_security',\n",
    "                   'work_location',\n",
    "                   'employment_conditions',\n",
    "                   'relocation',\n",
    "                   'study_travel',\n",
    "                   'traumatic_incident',\n",
    "                   'work_life_balance',\n",
    "                   'workload',\n",
    "                   'none_of_the_above',\n",
    "                   'aboriginal',\n",
    "                   'torres_strait',\n",
    "                   'south_sea',\n",
    "                   'disability',\n",
    "                   'nesb'], axis=1, inplace=True)"
   ]
  },
  {
   "cell_type": "code",
   "execution_count": 7,
   "metadata": {},
   "outputs": [],
   "source": [
    "# Standardize date format of cease_date in dete - removing month from some some entries\n",
    "\n",
    "dete_updated['cease_date'] = dete_updated['cease_date'].str.replace(r'[0-9]{2}/', '')"
   ]
  },
  {
   "cell_type": "code",
   "execution_count": 8,
   "metadata": {},
   "outputs": [],
   "source": [
    "# Create length of service column\n",
    "\n",
    "dete_updated['cease_date'] = pd.to_numeric(dete_updated['cease_date'])\n",
    "dete_updated['length_of_service'] = dete_updated['cease_date'] - dete_updated['dete_start_date']\n",
    "dete_updated.drop('dete_start_date', inplace=True, axis=1)"
   ]
  },
  {
   "cell_type": "code",
   "execution_count": 9,
   "metadata": {},
   "outputs": [],
   "source": [
    "# Change resignation reasons to single type - Resignation\n",
    "\n",
    "dete_updated.loc[dete_updated['separation_type'].str.contains('Resignat'), 'separation_type'] = 'Resignation'\n",
    "dete_updated.loc[dete_updated['separation_type'].str.contains('Retirement'), 'separation_type'] = 'Retirement'"
   ]
  },
  {
   "cell_type": "code",
   "execution_count": 11,
   "metadata": {},
   "outputs": [],
   "source": [
    "# Create function to convert float to categorical variable\n",
    "\n",
    "def create_year_categories(element):\n",
    "    if element == 0:\n",
    "        return 'Less than 1 year'\n",
    "    elif (element > 0) & (element < 3):\n",
    "        return '1-2'\n",
    "    elif (element > 2) & (element < 5):\n",
    "        return '3-4'\n",
    "    elif (element > 4) & (element < 7):\n",
    "        return '5-6'\n",
    "    elif (element > 6) & (element < 11):\n",
    "        return '7-10'\n",
    "    elif (element > 10) & (element < 21):\n",
    "        return '11-20'\n",
    "    elif element > 20:\n",
    "        return 'More than 20 years'"
   ]
  },
  {
   "cell_type": "code",
   "execution_count": 12,
   "metadata": {},
   "outputs": [],
   "source": [
    "# Convert float to categorical variable\n",
    "\n",
    "dete_updated['length_of_service'] = dete_updated['length_of_service'].apply(create_year_categories)"
   ]
  },
  {
   "cell_type": "code",
   "execution_count": 13,
   "metadata": {},
   "outputs": [],
   "source": [
    "# Create function to convert values to boolean\n",
    "\n",
    "def convert_to_bool(element):\n",
    "    if element == '-':\n",
    "        return False\n",
    "    else:\n",
    "        return True"
   ]
  },
  {
   "cell_type": "code",
   "execution_count": 14,
   "metadata": {},
   "outputs": [],
   "source": [
    "# Convert values from selected columns to boolean\n",
    "\n",
    "columns_to_convert_to_boolean = ['career_move_to_public_sector',\n",
    "                                 'career_move_to_private_sector',\n",
    "                                 'ill_health',\n",
    "                                 'maternity_family',\n",
    "                                 'job_dissatisfaction',\n",
    "                                 'interpersonal_conflicts']\n",
    "\n",
    "for column in columns_to_convert_to_boolean:\n",
    "    tafe_updated[column] = tafe_updated[column].apply(convert_to_bool)"
   ]
  },
  {
   "cell_type": "code",
   "execution_count": 15,
   "metadata": {},
   "outputs": [],
   "source": [
    "# Create function to convert age column of dete_updated\n",
    "\n",
    "def convert_age_cat(element):\n",
    "    if (element == '56-60') or (element == '61 or older'):\n",
    "        return '56 or older'\n",
    "    else:\n",
    "        return element"
   ]
  },
  {
   "cell_type": "code",
   "execution_count": 16,
   "metadata": {},
   "outputs": [],
   "source": [
    "# Convert age column of dete_updated\n",
    "\n",
    "dete_updated['age'] = dete_updated['age'].apply(convert_age_cat)"
   ]
  },
  {
   "cell_type": "code",
   "execution_count": 17,
   "metadata": {},
   "outputs": [],
   "source": [
    "# Create function to update values in tafe_updated.age\n",
    "\n",
    "def update_age_cat_spacing(element):\n",
    "    tafe_age_vals = tafe_updated.age.value_counts().index[2:-1]\n",
    "    if element == tafe_age_vals[0]:\n",
    "        return '41-45'\n",
    "    elif element == tafe_age_vals[1]:\n",
    "        return '46-50'\n",
    "    elif element == tafe_age_vals[2]:\n",
    "        return '31-35'\n",
    "    elif element == tafe_age_vals[3]:\n",
    "        return '36-40'\n",
    "    elif element == tafe_age_vals[4]:\n",
    "        return '26-30'\n",
    "    elif element == tafe_age_vals[5]:\n",
    "        return '21-25'\n",
    "    else:\n",
    "        return element\n",
    "    \n",
    "# Update values in age column\n",
    "\n",
    "tafe_updated['age'] = tafe_updated['age'].apply(update_age_cat_spacing)"
   ]
  },
  {
   "cell_type": "code",
   "execution_count": 18,
   "metadata": {},
   "outputs": [],
   "source": [
    "# Create variable in each df to distinguish which df it came from\n",
    "\n",
    "dete_updated['dataset'] = 'dete'\n",
    "tafe_updated['dataset'] = 'tafe'\n",
    "\n",
    "# Vertically concatenate dete_updated and tafe_updated\n",
    "\n",
    "combined = pd.concat([dete_updated, tafe_updated], ignore_index=True, sort=False)"
   ]
  },
  {
   "cell_type": "code",
   "execution_count": 19,
   "metadata": {
    "scrolled": true
   },
   "outputs": [
    {
     "name": "stdout",
     "output_type": "stream",
     "text": [
      "Resignation                 651\n",
      "Retirement                  495\n",
      "Contract Expired            161\n",
      "Retrenchment/ Redundancy    104\n",
      "Other                        49\n",
      "Termination                  38\n",
      "Transfer                     25\n",
      "NaN                           1\n",
      "Name: separation_type, dtype: int64\n",
      " 2012.0    589\n",
      " 2013.0    465\n",
      " 2011.0    268\n",
      " 2010.0    105\n",
      " 2014.0     51\n",
      "NaN         41\n",
      " 2009.0      4\n",
      " 2006.0      1\n",
      "Name: cease_date, dtype: int64\n",
      "Non-Delivery (corporate)                                   432\n",
      "Teacher                                                    324\n",
      "Delivery (teaching)                                        270\n",
      "Teacher Aide                                               137\n",
      "Public Servant                                             126\n",
      "Cleaner                                                     97\n",
      "Head of Curriculum/Head of Special Education                38\n",
      "Schools Officer                                             24\n",
      "School Administrative Staff                                 16\n",
      "Guidance Officer                                            12\n",
      "Technical Officer                                           11\n",
      "Other                                                        7\n",
      "Professional Officer                                         7\n",
      "School Principal                                             5\n",
      "School Based Professional Staff (Therapist, nurse, etc)      5\n",
      "NaN                                                          5\n",
      "Deputy Principal                                             4\n",
      "Business Service Manager                                     4\n",
      "Name: position, dtype: int64\n",
      "Permanent Full-time    671\n",
      "Permanent Part-time    367\n",
      "Temporary Full-time    218\n",
      "NaN                    111\n",
      "Temporary Part-time     76\n",
      "Contract/casual         71\n",
      "Casual                  10\n",
      "Name: employment_status, dtype: int64\n",
      "False    1175\n",
      "True      349\n",
      "Name: career_move_to_public_sector, dtype: int64\n",
      "False    1078\n",
      "True      446\n",
      "Name: career_move_to_private_sector, dtype: int64\n",
      "False    1198\n",
      "True      326\n",
      "Name: interpersonal_conflicts, dtype: int64\n",
      "False    1093\n",
      "True      431\n",
      "Name: job_dissatisfaction, dtype: int64\n",
      "False    1171\n",
      "True      353\n",
      "Name: maternity_family, dtype: int64\n",
      "False    1113\n",
      "True      411\n",
      "Name: ill_health, dtype: int64\n",
      "Female    962\n",
      "Male      432\n",
      "NaN       130\n",
      "Name: gender, dtype: int64\n",
      "56 or older      558\n",
      "51-55            185\n",
      "41-45            141\n",
      "46-50            122\n",
      "NaN              117\n",
      "26-30            107\n",
      "36-40            102\n",
      "31-35             91\n",
      "21-25             84\n",
      "20 or younger     17\n",
      "Name: age, dtype: int64\n",
      "More than 20 years    372\n",
      "11-20                 233\n",
      "NaN                   209\n",
      "Less than 1 year      178\n",
      "1-2                   161\n",
      "3-4                   155\n",
      "5-6                   109\n",
      "7-10                  107\n",
      "Name: length_of_service, dtype: int64\n",
      "dete    822\n",
      "tafe    702\n",
      "Name: dataset, dtype: int64\n"
     ]
    }
   ],
   "source": [
    "for i in combined.columns[1:]:\n",
    "    print(combined[i].value_counts(dropna=False))"
   ]
  },
  {
   "cell_type": "markdown",
   "metadata": {},
   "source": [
    "*Next Steps*\n",
    "- Determine where length_of_service and age NaNs came from\n",
    "- Remove position column\n",
    "- Merge casual and contract/casual in employment status column\n",
    "- Drop rows with older cease date?\n",
    "- What to do with NaNs?"
   ]
  },
  {
   "cell_type": "code",
   "execution_count": null,
   "metadata": {},
   "outputs": [],
   "source": []
  }
 ],
 "metadata": {
  "kernelspec": {
   "display_name": "Python 3",
   "language": "python",
   "name": "python3"
  },
  "language_info": {
   "codemirror_mode": {
    "name": "ipython",
    "version": 3
   },
   "file_extension": ".py",
   "mimetype": "text/x-python",
   "name": "python",
   "nbconvert_exporter": "python",
   "pygments_lexer": "ipython3",
   "version": "3.7.1"
  }
 },
 "nbformat": 4,
 "nbformat_minor": 2
}
