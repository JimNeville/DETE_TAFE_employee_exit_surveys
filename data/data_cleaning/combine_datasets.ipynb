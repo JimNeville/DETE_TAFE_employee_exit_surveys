{
 "cells": [
  {
   "cell_type": "code",
   "execution_count": 1,
   "metadata": {},
   "outputs": [],
   "source": [
    "# Load packages and read in raw data\n",
    "\n",
    "import pandas as pd\n",
    "import numpy as np\n",
    "\n",
    "dete = pd.read_csv('../dete-exit-survey-january-2014.csv', \n",
    "                    na_values='Not Stated' #replace 'Not Stated' values with nulls\n",
    "                  )\n",
    "tafe = pd.read_csv('../tafe-employee-exit-survey-access-database-december-2013.csv', \n",
    "                   encoding='iso-8859-1'\n",
    "                  )\n",
    "\n",
    "# Remove unnecessary columns\n",
    "\n",
    "dete_updated = dete.drop(dete.columns[28:49], axis=1)\n",
    "tafe_updated = tafe.drop(tafe.columns[17:66], axis=1)"
   ]
  },
  {
   "cell_type": "code",
   "execution_count": 2,
   "metadata": {},
   "outputs": [],
   "source": [
    "# Set column and row display maximums\n",
    "\n",
    "pd.set_option('display.max_columns', 100)\n",
    "pd.set_option('display.max_rows', 100)"
   ]
  },
  {
   "cell_type": "markdown",
   "metadata": {},
   "source": [
    "## Research Questions\n",
    "- Are employees who only worked for the institutes for a short period of time resigning due to some kind of dissatisfaction? What about employees who have been there longer?\n",
    "- Are younger employees resigning due to some kind of dissatisfaction? What about older employees?"
   ]
  },
  {
   "cell_type": "code",
   "execution_count": 3,
   "metadata": {
    "scrolled": true
   },
   "outputs": [],
   "source": [
    "# Standardize dete_updated column names\n",
    "\n",
    "dete_updated.columns = dete_updated.columns.str.lower().str.strip().str.replace(' ', '_').str.replace('/', '_')\n",
    "dete_updated.rename({'separationtype':'separation_type'}, inplace=True, axis=1)"
   ]
  },
  {
   "cell_type": "code",
   "execution_count": 4,
   "metadata": {},
   "outputs": [],
   "source": [
    "# Standardize tafe_updated column names\n",
    "\n",
    "pattern = r'[-\\.?()/]'\n",
    "tafe_updated.columns = tafe_updated.columns.str.replace(pattern, '').str.lower().str.strip()\n",
    "tafe_updated.columns = tafe_updated.columns.str.replace('\\s+', ' ').str.replace(' ', '_')"
   ]
  },
  {
   "cell_type": "code",
   "execution_count": 5,
   "metadata": {},
   "outputs": [],
   "source": [
    "tafe_column_name_map = {'record_id':'id',\n",
    "                        'reason_for_ceasing_employment':'separation_type',\n",
    "                        'cessation_year':'cease_date',\n",
    "                        'workarea':'position',\n",
    "                        'employment_type_employment_type':'employment_status',\n",
    "                        'contributing_factors_career_move_public_sector':'career_move_to_public_sector',\n",
    "                        'contributing_factors_career_move_private_sector':'career_move_to_private_sector',\n",
    "                        'contributing_factors_interpersonal_conflict':'interpersonal_conflicts',\n",
    "                        'contributing_factors_job_dissatisfaction':'job_dissatisfaction',\n",
    "                        'contributing_factors_maternityfamily': 'maternity_family',\n",
    "                        'contributing_factors_ill_health':'ill_health',\n",
    "                        'gender_what_is_your_gender':'gender',\n",
    "                        'currentage_current_age': 'age',\n",
    "                        'lengthofserviceoverall_overall_length_of_service_at_institute_in_years': 'length_of_service'}\n",
    "\n",
    "tafe_updated = tafe_updated.rename(tafe_column_name_map, axis=1)\n",
    "tafe_updated.drop(['institute', \n",
    "                   'contributing_factors_career_move_selfemployment', \n",
    "                   'contributing_factors_dissatisfaction',\n",
    "                   'contributing_factors_study',\n",
    "                   'contributing_factors_travel',\n",
    "                   'contributing_factors_other',\n",
    "                   'contributing_factors_none',\n",
    "                   'classification_classification',\n",
    "                   'lengthofservicecurrent_length_of_service_at_current_workplace_in_years'], axis=1, inplace=True)"
   ]
  },
  {
   "cell_type": "code",
   "execution_count": 6,
   "metadata": {},
   "outputs": [],
   "source": [
    "dete_updated.drop(['role_start_date',\n",
    "                   'classification',\n",
    "                   'region',\n",
    "                   'business_unit',\n",
    "                   'dissatisfaction_with_the_department',\n",
    "                   'physical_work_environment',\n",
    "                   'lack_of_recognition',\n",
    "                   'lack_of_job_security',\n",
    "                   'work_location',\n",
    "                   'employment_conditions',\n",
    "                   'relocation',\n",
    "                   'study_travel',\n",
    "                   'traumatic_incident',\n",
    "                   'work_life_balance',\n",
    "                   'workload',\n",
    "                   'none_of_the_above',\n",
    "                   'aboriginal',\n",
    "                   'torres_strait',\n",
    "                   'south_sea',\n",
    "                   'disability',\n",
    "                   'nesb'], axis=1, inplace=True)"
   ]
  },
  {
   "cell_type": "code",
   "execution_count": 7,
   "metadata": {},
   "outputs": [],
   "source": [
    "# Standardize date formate of cease_date in dete\n",
    "\n",
    "dete_updated['cease_date'] = dete_updated['cease_date'].str.replace(r'[0-9]{2}/', '')"
   ]
  },
  {
   "cell_type": "code",
   "execution_count": 8,
   "metadata": {},
   "outputs": [],
   "source": [
    "# Create length of service column\n",
    "dete_updated['cease_date'] = pd.to_numeric(dete_updated['cease_date'])\n",
    "dete_updated['length_of_service'] = dete_updated['cease_date'] - dete_updated['dete_start_date']"
   ]
  },
  {
   "cell_type": "code",
   "execution_count": 9,
   "metadata": {},
   "outputs": [],
   "source": [
    "# Change resignation reasons to single type - Resignation\n",
    "\n",
    "dete_updated.loc[dete_updated['separation_type'].str.contains('Resignat'), 'separation_type'] = 'Resignation'\n",
    "dete_updated.loc[dete_updated['separation_type'].str.contains('Retirement'), 'separation_type'] = 'Retirement'"
   ]
  },
  {
   "cell_type": "code",
   "execution_count": 16,
   "metadata": {},
   "outputs": [
    {
     "data": {
      "text/plain": [
       "Less than 1 year      147\n",
       "1-2                   102\n",
       "3-4                    96\n",
       "11-20                  89\n",
       "More than 20 years     71\n",
       "5-6                    48\n",
       "7-10                   43\n",
       "Name: length_of_service, dtype: int64"
      ]
     },
     "execution_count": 16,
     "metadata": {},
     "output_type": "execute_result"
    }
   ],
   "source": [
    "tafe_updated.length_of_service.value_counts()"
   ]
  },
  {
   "cell_type": "code",
   "execution_count": 38,
   "metadata": {},
   "outputs": [
    {
     "data": {
      "text/plain": [
       "'More than 20 years'"
      ]
     },
     "execution_count": 38,
     "metadata": {},
     "output_type": "execute_result"
    }
   ],
   "source": [
    "# Create function to convert float to categorical variable\n",
    "\n",
    "def create_year_categories(element):\n",
    "    if element == 0:\n",
    "        return 'Less than 1 year'\n",
    "    elif (element > 0) & (element < 3):\n",
    "        return '1-2'\n",
    "    elif (element > 2) & (element < 5):\n",
    "        return '3-4'\n",
    "    elif (element > 4) & (element < 7):\n",
    "        return '5-6'\n",
    "    elif (element > 6) & (element < 11):\n",
    "        return '7-10'\n",
    "    elif (element > 10) & (element < 21):\n",
    "        return '11-20'\n",
    "    elif element > 20:\n",
    "        return 'More than 20 years'\n",
    "    \n",
    "    \n",
    "create_year_categories(21)"
   ]
  },
  {
   "cell_type": "code",
   "execution_count": 39,
   "metadata": {},
   "outputs": [
    {
     "data": {
      "text/plain": [
       "More than 20 years    301\n",
       "11-20                 144\n",
       "7-10                   64\n",
       "5-6                    61\n",
       "3-4                    59\n",
       "1-2                    59\n",
       "Less than 1 year       31\n",
       "Name: length_of_service, dtype: int64"
      ]
     },
     "execution_count": 39,
     "metadata": {},
     "output_type": "execute_result"
    }
   ],
   "source": [
    "# Convert float to categorical variable\n",
    "\n",
    "dete_updated['length_of_service'] = dete_updated['length_of_service'].apply(create_year_categories)\n"
   ]
  },
  {
   "cell_type": "code",
   "execution_count": null,
   "metadata": {},
   "outputs": [],
   "source": []
  }
 ],
 "metadata": {
  "kernelspec": {
   "display_name": "Python 3",
   "language": "python",
   "name": "python3"
  },
  "language_info": {
   "codemirror_mode": {
    "name": "ipython",
    "version": 3
   },
   "file_extension": ".py",
   "mimetype": "text/x-python",
   "name": "python",
   "nbconvert_exporter": "python",
   "pygments_lexer": "ipython3",
   "version": "3.7.1"
  }
 },
 "nbformat": 4,
 "nbformat_minor": 2
}
