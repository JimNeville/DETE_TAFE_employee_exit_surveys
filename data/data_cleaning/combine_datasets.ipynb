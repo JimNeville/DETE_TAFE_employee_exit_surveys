{
 "cells": [
  {
   "cell_type": "code",
   "execution_count": 1,
   "metadata": {},
   "outputs": [],
   "source": [
    "# Load packages and read in raw datasets\n",
    "\n",
    "import pandas as pd\n",
    "import numpy as np\n",
    "\n",
    "dete = pd.read_csv('../dete-exit-survey-january-2014.csv', \n",
    "                    na_values='Not Stated' #replace 'Not Stated' values with nulls\n",
    "                  )\n",
    "tafe = pd.read_csv('../tafe-employee-exit-survey-access-database-december-2013.csv', \n",
    "                   encoding='iso-8859-1'\n",
    "                  )\n",
    "\n",
    "# Remove unnecessary columns\n",
    "\n",
    "dete_updated = dete.drop(dete.columns[28:49], axis=1)\n",
    "tafe_updated = tafe.drop(tafe.columns[17:66], axis=1)"
   ]
  },
  {
   "cell_type": "markdown",
   "metadata": {},
   "source": [
    "## Research Questions\n",
    "- Are employees who only worked for the institutes for a short period of time resigning due to some kind of dissatisfaction? What about employees who have been there longer?\n",
    "- Are younger employees resigning due to some kind of dissatisfaction? What about older employees?"
   ]
  },
  {
   "cell_type": "code",
   "execution_count": 3,
   "metadata": {
    "scrolled": true
   },
   "outputs": [],
   "source": [
    "# Standardize dete_updated column names\n",
    "\n",
    "dete_updated.columns = dete_updated.columns.str.lower().str.strip().str.replace(' ', '_').str.replace('/', '_')\n",
    "dete_updated.rename({'separationtype':'separation_type'}, inplace=True, axis=1)"
   ]
  },
  {
   "cell_type": "code",
   "execution_count": 4,
   "metadata": {},
   "outputs": [],
   "source": [
    "# Standardize tafe_updated column names\n",
    "\n",
    "pattern = r'[-\\.?()/]'\n",
    "tafe_updated.columns = tafe_updated.columns.str.replace(pattern, '').str.lower().str.strip()\n",
    "tafe_updated.columns = tafe_updated.columns.str.replace('\\s+', ' ').str.replace(' ', '_')"
   ]
  },
  {
   "cell_type": "code",
   "execution_count": 5,
   "metadata": {},
   "outputs": [],
   "source": [
    "tafe_column_name_map = {'record_id':'id',\n",
    "                        'reason_for_ceasing_employment':'separation_type',\n",
    "                        'cessation_year':'cease_date',\n",
    "                        'workarea':'position',\n",
    "                        'employment_type_employment_type':'employment_status',\n",
    "                        'contributing_factors_career_move_public_sector':'career_move_to_public_sector',\n",
    "                        'contributing_factors_career_move_private_sector':'career_move_to_private_sector',\n",
    "                        'contributing_factors_interpersonal_conflict':'interpersonal_conflicts',\n",
    "                        'contributing_factors_job_dissatisfaction':'job_dissatisfaction',\n",
    "                        'contributing_factors_maternityfamily': 'maternity_family',\n",
    "                        'contributing_factors_ill_health':'ill_health',\n",
    "                        'gender_what_is_your_gender':'gender',\n",
    "                        'currentage_current_age': 'age',\n",
    "                        'lengthofserviceoverall_overall_length_of_service_at_institute_in_years': 'length_of_service'}\n",
    "\n",
    "tafe_updated = tafe_updated.rename(tafe_column_name_map, axis=1)\n",
    "tafe_updated.drop(['institute', \n",
    "                   'contributing_factors_career_move_selfemployment', \n",
    "                   'contributing_factors_dissatisfaction',\n",
    "                   'contributing_factors_study',\n",
    "                   'contributing_factors_travel',\n",
    "                   'contributing_factors_other',\n",
    "                   'contributing_factors_none',\n",
    "                   'classification_classification',\n",
    "                   'lengthofservicecurrent_length_of_service_at_current_workplace_in_years',\n",
    "                   'position'], axis=1, inplace=True)"
   ]
  },
  {
   "cell_type": "code",
   "execution_count": 6,
   "metadata": {},
   "outputs": [],
   "source": [
    "dete_updated.drop(['role_start_date',\n",
    "                   'classification',\n",
    "                   'region',\n",
    "                   'business_unit',\n",
    "                   'dissatisfaction_with_the_department',\n",
    "                   'physical_work_environment',\n",
    "                   'lack_of_recognition',\n",
    "                   'lack_of_job_security',\n",
    "                   'work_location',\n",
    "                   'employment_conditions',\n",
    "                   'relocation',\n",
    "                   'study_travel',\n",
    "                   'traumatic_incident',\n",
    "                   'work_life_balance',\n",
    "                   'workload',\n",
    "                   'none_of_the_above',\n",
    "                   'aboriginal',\n",
    "                   'torres_strait',\n",
    "                   'south_sea',\n",
    "                   'disability',\n",
    "                   'nesb',\n",
    "                   'position'], axis=1, inplace=True)"
   ]
  },
  {
   "cell_type": "code",
   "execution_count": 7,
   "metadata": {},
   "outputs": [],
   "source": [
    "# Standardize date format of cease_date in dete - removing month from some some entries\n",
    "\n",
    "dete_updated['cease_date'] = dete_updated['cease_date'].str.replace(r'[0-9]{2}/', '')"
   ]
  },
  {
   "cell_type": "code",
   "execution_count": 8,
   "metadata": {},
   "outputs": [],
   "source": [
    "# Create length of service column\n",
    "\n",
    "dete_updated['cease_date'] = pd.to_numeric(dete_updated['cease_date'])\n",
    "dete_updated['length_of_service'] = dete_updated['cease_date'] - dete_updated['dete_start_date']\n",
    "dete_updated.drop('dete_start_date', inplace=True, axis=1)"
   ]
  },
  {
   "cell_type": "code",
   "execution_count": 9,
   "metadata": {},
   "outputs": [],
   "source": [
    "# Change various resignation and retirement reasons to single type - Resignation\n",
    "\n",
    "dete_updated.loc[dete_updated['separation_type'].str.contains('Resignat'), 'separation_type'] = 'Resignation'\n",
    "dete_updated.loc[dete_updated['separation_type'].str.contains('Retirement'), 'separation_type'] = 'Retirement'\n",
    "\n",
    "# Replace 'casual' employment_status with 'contract/casual'\n",
    "\n",
    "dete_updated.loc[dete_updated['employment_status'] == 'Casual', 'employment_status' ] = 'Contract/casual'"
   ]
  },
  {
   "cell_type": "code",
   "execution_count": 10,
   "metadata": {},
   "outputs": [],
   "source": [
    "# Create function to convert float to categorical variable\n",
    "\n",
    "def create_year_categories(element):\n",
    "    if element == 0:\n",
    "        return 'Less than 1 year'\n",
    "    elif (element >= 1) & (element <= 2):\n",
    "        return '1-2'\n",
    "    elif (element >= 3) & (element <= 4):\n",
    "        return '3-4'\n",
    "    elif (element >= 5) & (element <= 6):\n",
    "        return '5-6'\n",
    "    elif (element >= 7) & (element <= 10):\n",
    "        return '7-10'\n",
    "    elif (element >= 11) & (element <= 20):\n",
    "        return '11-20'\n",
    "    elif element > 20:\n",
    "        return 'More than 20 years'"
   ]
  },
  {
   "cell_type": "code",
   "execution_count": 11,
   "metadata": {},
   "outputs": [],
   "source": [
    "# Convert float to categorical variable\n",
    "\n",
    "dete_updated['length_of_service'] = dete_updated['length_of_service'].apply(create_year_categories)"
   ]
  },
  {
   "cell_type": "code",
   "execution_count": 12,
   "metadata": {},
   "outputs": [],
   "source": [
    "# Create function to convert values to boolean\n",
    "\n",
    "def convert_to_bool(element):\n",
    "    if element == '-':\n",
    "        return False\n",
    "    else:\n",
    "        return True"
   ]
  },
  {
   "cell_type": "code",
   "execution_count": 13,
   "metadata": {},
   "outputs": [],
   "source": [
    "# Convert values from selected columns to boolean\n",
    "\n",
    "columns_to_convert_to_boolean = ['career_move_to_public_sector',\n",
    "                                 'career_move_to_private_sector',\n",
    "                                 'ill_health',\n",
    "                                 'maternity_family',\n",
    "                                 'job_dissatisfaction',\n",
    "                                 'interpersonal_conflicts']\n",
    "\n",
    "for column in columns_to_convert_to_boolean:\n",
    "    tafe_updated[column] = tafe_updated[column].apply(convert_to_bool)"
   ]
  },
  {
   "cell_type": "code",
   "execution_count": 14,
   "metadata": {},
   "outputs": [],
   "source": [
    "# Create function to convert age column of dete_updated\n",
    "\n",
    "def convert_age_cat(element):\n",
    "    if (element == '56-60') or (element == '61 or older'):\n",
    "        return '56 or older'\n",
    "    else:\n",
    "        return element"
   ]
  },
  {
   "cell_type": "code",
   "execution_count": 15,
   "metadata": {},
   "outputs": [],
   "source": [
    "# Convert age column of dete_updated\n",
    "\n",
    "dete_updated['age'] = dete_updated['age'].apply(convert_age_cat)"
   ]
  },
  {
   "cell_type": "code",
   "execution_count": 16,
   "metadata": {},
   "outputs": [],
   "source": [
    "# Create function to update values in tafe_updated.age\n",
    "\n",
    "def update_age_cat_spacing(element):\n",
    "    tafe_age_vals = tafe_updated.age.value_counts().index[2:-1]\n",
    "    if element == tafe_age_vals[0]:\n",
    "        return '41-45'\n",
    "    elif element == tafe_age_vals[1]:\n",
    "        return '46-50'\n",
    "    elif element == tafe_age_vals[2]:\n",
    "        return '31-35'\n",
    "    elif element == tafe_age_vals[3]:\n",
    "        return '36-40'\n",
    "    elif element == tafe_age_vals[4]:\n",
    "        return '26-30'\n",
    "    elif element == tafe_age_vals[5]:\n",
    "        return '21-25'\n",
    "    else:\n",
    "        return element\n",
    "    \n",
    "# Update values in age column\n",
    "\n",
    "tafe_updated['age'] = tafe_updated['age'].apply(update_age_cat_spacing)"
   ]
  },
  {
   "cell_type": "code",
   "execution_count": 17,
   "metadata": {},
   "outputs": [],
   "source": [
    "# Create variable in each df to distinguish which df it came from\n",
    "\n",
    "dete_updated['dataset'] = 'dete'\n",
    "tafe_updated['dataset'] = 'tafe'\n",
    "\n",
    "# Vertically concatenate dete_updated and tafe_updated\n",
    "\n",
    "combined = pd.concat([dete_updated, tafe_updated], ignore_index=True, sort=False)"
   ]
  },
  {
   "cell_type": "code",
   "execution_count": 18,
   "metadata": {},
   "outputs": [],
   "source": [
    "# Remove rows with missing values in any column\n",
    "\n",
    "combined.dropna(axis=0, inplace=True)"
   ]
  }
 ],
 "metadata": {
  "kernelspec": {
   "display_name": "Python 3",
   "language": "python",
   "name": "python3"
  },
  "language_info": {
   "codemirror_mode": {
    "name": "ipython",
    "version": 3
   },
   "file_extension": ".py",
   "mimetype": "text/x-python",
   "name": "python",
   "nbconvert_exporter": "python",
   "pygments_lexer": "ipython3",
   "version": "3.7.1"
  }
 },
 "nbformat": 4,
 "nbformat_minor": 2
}
