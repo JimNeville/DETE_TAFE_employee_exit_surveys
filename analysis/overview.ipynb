{
 "cells": [
  {
   "cell_type": "markdown",
   "metadata": {},
   "source": [
    "# Analysis of Employee Exit Surveys from Australian Educational Institutions\n",
    "### The purpose of this analysis was to answer the following questions:\n",
    "- Are employees resigning from the Department of Education, Training and Employment (DETE) and Technical and Further Education (TAFE) institues due to some sort of dissatisfaction? \n",
    "- Are employees who have worked at the institutes for a short period of time resigning for some sort of dissatisfaction?\n",
    "- Are employees who have worked at the institutes for a longer period of time resigning for some sort of dissatisfaction?\n",
    "- Are younger employees resigning due to some sort of dissatisfaction?\n",
    "- Are older employees resigning due to some sort of dissatisfaction?"
   ]
  },
  {
   "cell_type": "code",
   "execution_count": null,
   "metadata": {},
   "outputs": [],
   "source": []
  }
 ],
 "metadata": {
  "kernelspec": {
   "display_name": "Python 3",
   "language": "python",
   "name": "python3"
  },
  "language_info": {
   "codemirror_mode": {
    "name": "ipython",
    "version": 3
   },
   "file_extension": ".py",
   "mimetype": "text/x-python",
   "name": "python",
   "nbconvert_exporter": "python",
   "pygments_lexer": "ipython3",
   "version": "3.7.1"
  }
 },
 "nbformat": 4,
 "nbformat_minor": 2
}
